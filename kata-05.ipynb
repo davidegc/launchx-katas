{
 "cells": [
  {
   "cell_type": "markdown",
   "metadata": {},
   "source": [
    "## Ejercicio 1 - Utilizar operadores"
   ]
  },
  {
   "cell_type": "code",
   "execution_count": 18,
   "metadata": {},
   "outputs": [
    {
     "name": "stdout",
     "output_type": "stream",
     "text": [
      "628949330\n",
      "390577534\n"
     ]
    }
   ],
   "source": [
    "#Variables\n",
    "\n",
    "millas = 0.621\n",
    "tierra = 149597870\n",
    "jupiter = 778547200\n",
    "\n",
    "#Calcular distancia entre planetas\n",
    "\n",
    "distancia_kilometros = (jupiter - tierra)\n",
    "distancia_millas = round(distancia_kilometros * millas)\n",
    "\n",
    "print(distancia_kilometros)\n",
    "print(distancia_millas)"
   ]
  },
  {
   "cell_type": "markdown",
   "metadata": {},
   "source": [
    "## Ejercicio 2 - Convertir cadenas en números y usar valores absolutos"
   ]
  },
  {
   "cell_type": "code",
   "execution_count": 22,
   "metadata": {},
   "outputs": [
    {
     "name": "stdout",
     "output_type": "stream",
     "text": [
      "Distancia en kilometros:  629000000\n",
      "Distancia en millas:  390609000.0\n"
     ]
    }
   ],
   "source": [
    "planeta_uno = input(\"Distacia planeta 1: \")\n",
    "planeta_dos = input(\"Distancia planeta 2: \")\n",
    "\n",
    "distancia_km = abs(int(planeta_uno) - int(planeta_dos))\n",
    "distancia_mi = abs(distancia_km * millas)\n",
    "\n",
    "print(\"Distancia en kilometros: \", distancia_km)\n",
    "print(\"Distancia en millas: \", distancia_mi)"
   ]
  }
 ],
 "metadata": {
  "interpreter": {
   "hash": "916dbcbb3f70747c44a77c7bcd40155683ae19c65e1c03b4aa3499c5328201f1"
  },
  "kernelspec": {
   "display_name": "Python 3.8.10 64-bit",
   "language": "python",
   "name": "python3"
  },
  "language_info": {
   "codemirror_mode": {
    "name": "ipython",
    "version": 3
   },
   "file_extension": ".py",
   "mimetype": "text/x-python",
   "name": "python",
   "nbconvert_exporter": "python",
   "pygments_lexer": "ipython3",
   "version": "3.8.10"
  },
  "orig_nbformat": 4
 },
 "nbformat": 4,
 "nbformat_minor": 2
}
