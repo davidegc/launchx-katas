{
 "cells": [
  {
   "cell_type": "code",
   "execution_count": 75,
   "metadata": {},
   "outputs": [],
   "source": [
    "# Diccionario de planetas\n",
    "\n",
    "planeta = {\n",
    "    \"nombre\": \"Marte\",\n",
    "    \"lunas\": 2\n",
    "}"
   ]
  },
  {
   "cell_type": "code",
   "execution_count": 76,
   "metadata": {},
   "outputs": [
    {
     "name": "stdout",
     "output_type": "stream",
     "text": [
      "Planeta: Marte Lunas: 2\n"
     ]
    }
   ],
   "source": [
    "# Mostrar nombre del planeta y número de lunas\n",
    "\n",
    "print(f'Planeta: {planeta.get(\"nombre\")} Lunas: {planeta.get(\"lunas\")}')"
   ]
  },
  {
   "cell_type": "code",
   "execution_count": 77,
   "metadata": {},
   "outputs": [],
   "source": [
    "# Se agrega la clave circunferencia con dos valores\n",
    "\n",
    "planeta[\"circunferencia\"] = {\n",
    "    \"polar\": 672,\n",
    "    \"equatorial\": 6792\n",
    "    }"
   ]
  },
  {
   "cell_type": "code",
   "execution_count": 78,
   "metadata": {},
   "outputs": [
    {
     "name": "stdout",
     "output_type": "stream",
     "text": [
      "Planeta: Marte Lunas: 2\n",
      "Circunferencia polar: 672km\n",
      "Circunferencia equatorial: 6792km\n"
     ]
    }
   ],
   "source": [
    "# Mostrar nombre del planeta, número de lunas y circunferencia\n",
    "\n",
    "print(f'Planeta: {planeta.get(\"nombre\")} Lunas: {planeta.get(\"lunas\")}')\n",
    "print(f'Circunferencia polar: {planeta[\"circunferencia\"][\"polar\"]}km')\n",
    "print(f'Circunferencia equatorial: {planeta[\"circunferencia\"][\"equatorial\"]}km')"
   ]
  },
  {
   "cell_type": "markdown",
   "metadata": {},
   "source": [
    "## Ejercicio 2 - Programación dinámica con diccionarios"
   ]
  },
  {
   "cell_type": "code",
   "execution_count": 79,
   "metadata": {},
   "outputs": [],
   "source": [
    "# Planetas y lunas\n",
    "\n",
    "planet_moons = {\n",
    "    'mercury': 0,\n",
    "    'venus': 0,\n",
    "    'earth': 1,\n",
    "    'mars': 2,\n",
    "    'jupiter': 79,\n",
    "    'saturn': 82,\n",
    "    'uranus': 27,\n",
    "    'neptune': 14,\n",
    "    'pluto': 5,\n",
    "    'haumea': 2,\n",
    "    'makemake': 1,\n",
    "    'eris': 1\n",
    "}"
   ]
  },
  {
   "cell_type": "code",
   "execution_count": 80,
   "metadata": {},
   "outputs": [
    {
     "name": "stdout",
     "output_type": "stream",
     "text": [
      "Total de planetas: 12\n",
      "Total de lunas: 214\n",
      "Promedio de lunas por planeta: 18\n"
     ]
    }
   ],
   "source": [
    "# Código para determinar el número de lunas\n",
    "\n",
    "total_lunas = 0\n",
    "total_planetas = len(planet_moons.keys())\n",
    "\n",
    "for lunas in planet_moons.values():\n",
    "    total_lunas = total_lunas + lunas\n",
    "\n",
    "promedio_lunas = round(total_lunas / total_planetas)\n",
    "\n",
    "print(\"Total de planetas:\", total_planetas)\n",
    "print(\"Total de lunas:\", total_lunas)\n",
    "print(\"Promedio de lunas por planeta:\",promedio_lunas)"
   ]
  }
 ],
 "metadata": {
  "interpreter": {
   "hash": "916dbcbb3f70747c44a77c7bcd40155683ae19c65e1c03b4aa3499c5328201f1"
  },
  "kernelspec": {
   "display_name": "Python 3.8.10 64-bit",
   "language": "python",
   "name": "python3"
  },
  "language_info": {
   "codemirror_mode": {
    "name": "ipython",
    "version": 3
   },
   "file_extension": ".py",
   "mimetype": "text/x-python",
   "name": "python",
   "nbconvert_exporter": "python",
   "pygments_lexer": "ipython3",
   "version": "3.8.10"
  },
  "orig_nbformat": 4
 },
 "nbformat": 4,
 "nbformat_minor": 2
}
