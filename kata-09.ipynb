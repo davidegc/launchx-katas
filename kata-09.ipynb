{
 "cells": [
  {
   "cell_type": "markdown",
   "metadata": {},
   "source": [
    "## Ejercicio 1 - Uso de funciones en Python"
   ]
  },
  {
   "cell_type": "code",
   "execution_count": 46,
   "metadata": {},
   "outputs": [],
   "source": [
    "# Función para leer 3 tanques de combustible y muestra promedio\n",
    "\n",
    "def reporte_combustible(tanque_uno, tanque_dos, tanque_tres):\n",
    "    \n",
    "    promedio_combustible = (tanque_uno + tanque_dos + tanque_tres) /3\n",
    "\n",
    "    return f\"\"\"\n",
    "    Reporte de combustible\n",
    "    {'-'*16}\n",
    "    Promedio total: {promedio_combustible}%\n",
    "    Tanque 1: {tanque_uno}%\n",
    "    Tanque 2: {tanque_dos}%\n",
    "    Tanque 3: {tanque_tres}%\n",
    "    \"\"\""
   ]
  },
  {
   "cell_type": "code",
   "execution_count": 47,
   "metadata": {},
   "outputs": [
    {
     "name": "stdout",
     "output_type": "stream",
     "text": [
      "\n",
      "    Reporte de combustible\n",
      "    ----------------\n",
      "    Promedio total: 53.333333333333336%\n",
      "    Tanque 1: 20%\n",
      "    Tanque 2: 100%\n",
      "    Tanque 3: 40%\n",
      "    \n"
     ]
    }
   ],
   "source": [
    "## Llamar a la función\n",
    "\n",
    "print(reporte_combustible(20,100,40))"
   ]
  },
  {
   "cell_type": "code",
   "execution_count": 48,
   "metadata": {},
   "outputs": [],
   "source": [
    "# Función promedio\n",
    "\n",
    "def combustible_promedio(valores):\n",
    "    total = sum(valores)\n",
    "    numero_valores = len(valores)\n",
    "    return total / numero_valores\n"
   ]
  },
  {
   "cell_type": "code",
   "execution_count": 49,
   "metadata": {},
   "outputs": [
    {
     "data": {
      "text/plain": [
       "53.333333333333336"
      ]
     },
     "execution_count": 49,
     "metadata": {},
     "output_type": "execute_result"
    }
   ],
   "source": [
    "# Llamar a la función\n",
    "combustible_promedio([20,100,40])"
   ]
  },
  {
   "cell_type": "code",
   "execution_count": 50,
   "metadata": {},
   "outputs": [],
   "source": [
    "# Actualizar función\n",
    "\n",
    "def reporte_combustible(tanque_uno, tanque_dos, tanque_tres):\n",
    "    \n",
    "    promedio_combustible = combustible_promedio([tanque_uno, tanque_dos, tanque_tres])\n",
    "\n",
    "    return f\"\"\"\n",
    "    Reporte de combustible\n",
    "    {'-'*16}\n",
    "    Promedio total: {promedio_combustible}%\n",
    "    Tanque 1: {tanque_uno}%\n",
    "    Tanque 2: {tanque_dos}%\n",
    "    Tanque 3: {tanque_tres}%\n",
    "    \"\"\""
   ]
  },
  {
   "cell_type": "code",
   "execution_count": 51,
   "metadata": {},
   "outputs": [
    {
     "name": "stdout",
     "output_type": "stream",
     "text": [
      "\n",
      "    Reporte de combustible\n",
      "    ----------------\n",
      "    Promedio total: 53.333333333333336%\n",
      "    Tanque 1: 20%\n",
      "    Tanque 2: 100%\n",
      "    Tanque 3: 40%\n",
      "    \n"
     ]
    }
   ],
   "source": [
    "# Llamar a la función\n",
    "\n",
    "print(reporte_combustible(20,100,40))"
   ]
  },
  {
   "cell_type": "markdown",
   "metadata": {},
   "source": [
    "## Ejercicio 2 - Trabajar con argumentos de palabra clave"
   ]
  },
  {
   "cell_type": "code",
   "execution_count": 52,
   "metadata": {},
   "outputs": [],
   "source": [
    "# Función reporte misión\n",
    "\n",
    "def reporte_mision(hora_prelanzamiento, tiempo_vuelo, destino, tanque_externo, tanque_interno):\n",
    "    return f\"\"\"\n",
    "    Destino: {destino}\n",
    "    Tiempo de viaje: {hora_prelanzamiento + tiempo_vuelo} minutos\n",
    "    Total combustible: {tanque_externo + tanque_interno} galones\n",
    "    \"\"\""
   ]
  },
  {
   "cell_type": "code",
   "execution_count": 53,
   "metadata": {},
   "outputs": [
    {
     "name": "stdout",
     "output_type": "stream",
     "text": [
      "\n",
      "    Destino: Luna\n",
      "    Tiempo de viaje: 65 minutos\n",
      "    Total combustible: 500000 galones\n",
      "    \n"
     ]
    }
   ],
   "source": [
    "# Llamor a la función\n",
    "\n",
    "print(reporte_mision(14, 51, \"Luna\", 200000, 300000))"
   ]
  },
  {
   "cell_type": "code",
   "execution_count": 54,
   "metadata": {},
   "outputs": [],
   "source": [
    "# Modificar función\n",
    "\n",
    "def reporte_mision(destino, *minutos, **combustible):\n",
    "    return f\"\"\"\n",
    "    Destino: {destino}\n",
    "    Tiempo de viaje: {sum(minutos)} minutos\n",
    "    Total combustible: {sum(combustible.values())} galones\n",
    "    \"\"\""
   ]
  },
  {
   "cell_type": "code",
   "execution_count": 55,
   "metadata": {},
   "outputs": [
    {
     "name": "stdout",
     "output_type": "stream",
     "text": [
      "\n",
      "    Destino: Luna\n",
      "    Tiempo de viaje: 76 minutos\n",
      "    Total combustible: 500000 galones\n",
      "    \n"
     ]
    }
   ],
   "source": [
    "# Llamar a la función\n",
    "\n",
    "print(reporte_mision(\"Luna\", 10, 15, 51, externo=200000, interno=300000))\n"
   ]
  },
  {
   "cell_type": "code",
   "execution_count": 56,
   "metadata": {},
   "outputs": [],
   "source": [
    "# Modificar función\n",
    "\n",
    "def reporte_mision(destino, *minutos, **combustible):\n",
    "    reporte = f\"\"\"\n",
    "    Destino: {destino}\n",
    "    Tiempo de viaje: {sum(minutos)} minutos\n",
    "    Total combustible: {sum(combustible.values())} galones\n",
    "    \"\"\"\n",
    "\n",
    "    for tanque, galones in combustible.items():\n",
    "        reporte += f\"\\ntanque {tanque} --> {galones} galones\"\n",
    "    \n",
    "    return reporte"
   ]
  },
  {
   "cell_type": "code",
   "execution_count": 57,
   "metadata": {},
   "outputs": [
    {
     "name": "stdout",
     "output_type": "stream",
     "text": [
      "\n",
      "    Destino: Luna\n",
      "    Tiempo de viaje: 76 minutos\n",
      "    Total combustible: 500000 galones\n",
      "    \n",
      "tanque externo --> 200000 galones\n",
      "tanque interno --> 300000 galones\n"
     ]
    }
   ],
   "source": [
    "# Llamar a la función\n",
    "\n",
    "print(reporte_mision(\"Luna\", 10, 15, 51, externo=200000, interno=300000))\n"
   ]
  }
 ],
 "metadata": {
  "interpreter": {
   "hash": "916dbcbb3f70747c44a77c7bcd40155683ae19c65e1c03b4aa3499c5328201f1"
  },
  "kernelspec": {
   "display_name": "Python 3.8.10 64-bit",
   "language": "python",
   "name": "python3"
  },
  "language_info": {
   "codemirror_mode": {
    "name": "ipython",
    "version": 3
   },
   "file_extension": ".py",
   "mimetype": "text/x-python",
   "name": "python",
   "nbconvert_exporter": "python",
   "pygments_lexer": "ipython3",
   "version": "3.8.10"
  },
  "orig_nbformat": 4
 },
 "nbformat": 4,
 "nbformat_minor": 2
}
