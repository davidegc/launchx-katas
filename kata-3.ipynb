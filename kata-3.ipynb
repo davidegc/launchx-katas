{
 "cells": [
  {
   "cell_type": "markdown",
   "metadata": {},
   "source": [
    "## Ejercicio 1"
   ]
  },
  {
   "cell_type": "code",
   "execution_count": 14,
   "metadata": {},
   "outputs": [
    {
     "name": "stdout",
     "output_type": "stream",
     "text": [
      "Velocidad del asteroide:  31\n",
      "Velocidad del asteroide:  27\n",
      "Advertencia: un asteroide se acerca a la Tierra demasiado rápido\n"
     ]
    }
   ],
   "source": [
    "import random\n",
    "\n",
    "velocidadAsteroide = random.randint(20, 49)\n",
    "tamanoAsteroide = random.randint(20,49)\n",
    "\n",
    "print(\"Velocidad del asteroide: \", velocidadAsteroide)\n",
    "print(\"Velocidad del asteroide: \", tamanoAsteroide)\n",
    "\n",
    "if velocidadAsteroide > 25:\n",
    "    print(\"Advertencia: un asteroide se acerca a la Tierra demasiado rápido\")\n",
    "else:\n",
    "    print(\"Sin problema\")"
   ]
  },
  {
   "cell_type": "markdown",
   "metadata": {},
   "source": [
    "## Ejercicio 2"
   ]
  },
  {
   "cell_type": "code",
   "execution_count": 15,
   "metadata": {},
   "outputs": [
    {
     "name": "stdout",
     "output_type": "stream",
     "text": [
      "Hay una estela de luz en el cielo\n"
     ]
    }
   ],
   "source": [
    "if velocidadAsteroide > 20:\n",
    "    print(\"Hay una estela de luz en el cielo\")\n",
    "elif velocidadAsteroide == 20:\n",
    "    print(\"Hay una estela de luz en el cielo\")\n",
    "else:\n",
    "    print(\"Sin problema\")"
   ]
  },
  {
   "cell_type": "markdown",
   "metadata": {},
   "source": [
    "## Problema 3"
   ]
  },
  {
   "cell_type": "code",
   "execution_count": 16,
   "metadata": {},
   "outputs": [
    {
     "name": "stdout",
     "output_type": "stream",
     "text": [
      "Advertencia: un asteroide se acerca a la Tierra demasiado rápido\n"
     ]
    }
   ],
   "source": [
    "if velocidadAsteroide > 25 and tamanoAsteroide > 25:\n",
    "    print(\"Advertencia: un asteroide se acerca a la Tierra demasiado rápido\")\n",
    "elif velocidadAsteroide >= 20:\n",
    "    print(\"Hay una estela de luz en el cielo\")\n",
    "elif tamanoAsteroide < 25:\n",
    "    print(\"Sin problema\")\n",
    "else:\n",
    "    print(\"Sin problema\")"
   ]
  }
 ],
 "metadata": {
  "interpreter": {
   "hash": "916dbcbb3f70747c44a77c7bcd40155683ae19c65e1c03b4aa3499c5328201f1"
  },
  "kernelspec": {
   "display_name": "Python 3.8.10 64-bit",
   "language": "python",
   "name": "python3"
  },
  "language_info": {
   "codemirror_mode": {
    "name": "ipython",
    "version": 3
   },
   "file_extension": ".py",
   "mimetype": "text/x-python",
   "name": "python",
   "nbconvert_exporter": "python",
   "pygments_lexer": "ipython3",
   "version": "3.8.10"
  },
  "orig_nbformat": 4
 },
 "nbformat": 4,
 "nbformat_minor": 2
}
